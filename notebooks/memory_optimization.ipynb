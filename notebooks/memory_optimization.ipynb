{
  "nbformat": 4,
  "nbformat_minor": 0,
  "metadata": {
    "colab": {
      "provenance": []
    },
    "kernelspec": {
      "name": "python3",
      "display_name": "Python 3"
    },
    "language_info": {
      "name": "python"
    }
  },
  "cells": [
    {
      "cell_type": "code",
      "source": [
        "\n",
        "float_cols = [\"Age\", \"Height\", \"Weight\", \"FCVC\", \"NCP\", \"CH2O\", \"FAF\", \"TUE\"]\n",
        "int_cols = [\"Gender\", \"family_history_with_overweight\", \"FAVC\", \"CAEC\", \"SMOKE\", \"SCC\", \"CALC\", \"MTRANS\", \"NObeyesdad\"]\n",
        "def optimize_memory(df, float_cols, int_cols):\n",
        "  df[float_cols] = df[float_cols].astype(\"float32\")\n",
        "  df[int_cols] = df[int_cols].astype(\"int32\")\n",
        "  return df\n",
        "df_opt = optimize_memory(df.copy(), float_cols, int_cols)"
      ],
      "metadata": {
        "id": "ARSvah0ihmbt"
      },
      "execution_count": 29,
      "outputs": []
    },
    {
      "cell_type": "code",
      "source": [
        "import sys\n",
        "\n",
        "def measure_memory_usage(dataset):\n",
        "    return sys.getsizeof(dataset)\n",
        "\n",
        "def demonstrate_memory_improvement(df, df_32):\n",
        "    memory_64 = measure_memory_usage(df)\n",
        "    memory_32 = measure_memory_usage(df_32)\n",
        "\n",
        "    improvement = memory_64 - memory_32\n",
        "    improvement_percentage = (improvement / memory_64) * 100\n",
        "\n",
        "    print(f\"Memory usage of float64 dataset: {memory_64} bytes\")\n",
        "    print(f\"Memory usage of mixed (float32 + int32) dataset: {memory_32} bytes\")\n",
        "    print(f\"Memory improvement: {improvement} bytes ({improvement_percentage:.2f}%)\")\n",
        "\n",
        "demonstrate_memory_improvement(df, df_opt)"
      ],
      "metadata": {
        "colab": {
          "base_uri": "https://localhost:8080/"
        },
        "id": "1VMFpxJ8k63a",
        "outputId": "80212b45-a9d2-49eb-d060-286d3bf3ca1f"
      },
      "execution_count": 30,
      "outputs": [
        {
          "output_type": "stream",
          "name": "stdout",
          "text": [
            "Memory usage of float64 dataset: 287168 bytes\n",
            "Memory usage of mixed (float32 + int32) dataset: 151576 bytes\n",
            "Memory improvement: 135592 bytes (47.22%)\n"
          ]
        }
      ]
    }
  ]
}