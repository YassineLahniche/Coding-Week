{
 "cells": [
  {
   "cell_type": "code",
   "execution_count": 1,
   "id": "e7b0f6c9-f50b-42e4-93d8-9fd76ca23ceb",
   "metadata": {},
   "outputs": [],
   "source": [
    "import numpy as np\n",
    "import pandas as pd\n",
    "import matplotlib.pyplot as plt\n",
    "import seaborn as sns\n",
    "from sklearn.ensemble import RandomForestClassifier\n",
    "from sklearn.metrics import accuracy_score, precision_score, recall_score, f1_score, roc_auc_score, roc_curve, auc\n",
    "from sklearn.model_selection import train_test_split, GridSearchCV\n",
    "import xgboost as xgb\n",
    "from catboost import CatBoostClassifier\n",
    "import plotly.graph_objects as go\n",
    "from matplotlib.patches import Circle, RegularPolygon\n",
    "from matplotlib.path import Path\n",
    "from matplotlib.projections import register_projection\n",
    "from matplotlib.projections.polar import PolarAxes\n",
    "from matplotlib.spines import Spine\n",
    "from matplotlib.transforms import Affine2D\n",
    "import matplotlib.cm as cm\n",
    "import pickle"
   ]
  },
  {
   "cell_type": "code",
   "execution_count": 2,
   "id": "388ae7ce-15bf-4e48-9c2e-0d9ca02c4544",
   "metadata": {},
   "outputs": [],
   "source": [
    "# Load the dataset\n",
    "df = pd.read_csv(\"C:/Users/Yassine Lahniche/Downloads/processed_obesity_dataset.csv\")\n",
    "\n",
    "# Prepare features and target\n",
    "X = df.drop(\"NObeyesdad\", axis=1)\n",
    "y = df[\"NObeyesdad\"]\n",
    "\n",
    "# Bin the target variable into 6 categories\n",
    "Y = pd.cut(y, bins=6, labels=[0, 1, 2, 3, 4, 5])\n",
    "\n",
    "# Split the data into training and testing sets\n",
    "X_train, X_test, y_train, y_test = train_test_split(X, Y, test_size=0.2, random_state=42)"
   ]
  },
  {
   "cell_type": "code",
   "execution_count": 3,
   "id": "59399df8-8781-43b7-a78a-2a29e77d53ba",
   "metadata": {},
   "outputs": [
    {
     "name": "stdout",
     "output_type": "stream",
     "text": [
      "Training Random Forest Classifier...\n",
      "Training CatBoost Classifier...\n",
      "Training Baseline XGBoost Classifier...\n"
     ]
    },
    {
     "data": {
      "text/html": [
       "<style>#sk-container-id-1 {color: black;}#sk-container-id-1 pre{padding: 0;}#sk-container-id-1 div.sk-toggleable {background-color: white;}#sk-container-id-1 label.sk-toggleable__label {cursor: pointer;display: block;width: 100%;margin-bottom: 0;padding: 0.3em;box-sizing: border-box;text-align: center;}#sk-container-id-1 label.sk-toggleable__label-arrow:before {content: \"▸\";float: left;margin-right: 0.25em;color: #696969;}#sk-container-id-1 label.sk-toggleable__label-arrow:hover:before {color: black;}#sk-container-id-1 div.sk-estimator:hover label.sk-toggleable__label-arrow:before {color: black;}#sk-container-id-1 div.sk-toggleable__content {max-height: 0;max-width: 0;overflow: hidden;text-align: left;background-color: #f0f8ff;}#sk-container-id-1 div.sk-toggleable__content pre {margin: 0.2em;color: black;border-radius: 0.25em;background-color: #f0f8ff;}#sk-container-id-1 input.sk-toggleable__control:checked~div.sk-toggleable__content {max-height: 200px;max-width: 100%;overflow: auto;}#sk-container-id-1 input.sk-toggleable__control:checked~label.sk-toggleable__label-arrow:before {content: \"▾\";}#sk-container-id-1 div.sk-estimator input.sk-toggleable__control:checked~label.sk-toggleable__label {background-color: #d4ebff;}#sk-container-id-1 div.sk-label input.sk-toggleable__control:checked~label.sk-toggleable__label {background-color: #d4ebff;}#sk-container-id-1 input.sk-hidden--visually {border: 0;clip: rect(1px 1px 1px 1px);clip: rect(1px, 1px, 1px, 1px);height: 1px;margin: -1px;overflow: hidden;padding: 0;position: absolute;width: 1px;}#sk-container-id-1 div.sk-estimator {font-family: monospace;background-color: #f0f8ff;border: 1px dotted black;border-radius: 0.25em;box-sizing: border-box;margin-bottom: 0.5em;}#sk-container-id-1 div.sk-estimator:hover {background-color: #d4ebff;}#sk-container-id-1 div.sk-parallel-item::after {content: \"\";width: 100%;border-bottom: 1px solid gray;flex-grow: 1;}#sk-container-id-1 div.sk-label:hover label.sk-toggleable__label {background-color: #d4ebff;}#sk-container-id-1 div.sk-serial::before {content: \"\";position: absolute;border-left: 1px solid gray;box-sizing: border-box;top: 0;bottom: 0;left: 50%;z-index: 0;}#sk-container-id-1 div.sk-serial {display: flex;flex-direction: column;align-items: center;background-color: white;padding-right: 0.2em;padding-left: 0.2em;position: relative;}#sk-container-id-1 div.sk-item {position: relative;z-index: 1;}#sk-container-id-1 div.sk-parallel {display: flex;align-items: stretch;justify-content: center;background-color: white;position: relative;}#sk-container-id-1 div.sk-item::before, #sk-container-id-1 div.sk-parallel-item::before {content: \"\";position: absolute;border-left: 1px solid gray;box-sizing: border-box;top: 0;bottom: 0;left: 50%;z-index: -1;}#sk-container-id-1 div.sk-parallel-item {display: flex;flex-direction: column;z-index: 1;position: relative;background-color: white;}#sk-container-id-1 div.sk-parallel-item:first-child::after {align-self: flex-end;width: 50%;}#sk-container-id-1 div.sk-parallel-item:last-child::after {align-self: flex-start;width: 50%;}#sk-container-id-1 div.sk-parallel-item:only-child::after {width: 0;}#sk-container-id-1 div.sk-dashed-wrapped {border: 1px dashed gray;margin: 0 0.4em 0.5em 0.4em;box-sizing: border-box;padding-bottom: 0.4em;background-color: white;}#sk-container-id-1 div.sk-label label {font-family: monospace;font-weight: bold;display: inline-block;line-height: 1.2em;}#sk-container-id-1 div.sk-label-container {text-align: center;}#sk-container-id-1 div.sk-container {/* jupyter's `normalize.less` sets `[hidden] { display: none; }` but bootstrap.min.css set `[hidden] { display: none !important; }` so we also need the `!important` here to be able to override the default hidden behavior on the sphinx rendered scikit-learn.org. See: https://github.com/scikit-learn/scikit-learn/issues/21755 */display: inline-block !important;position: relative;}#sk-container-id-1 div.sk-text-repr-fallback {display: none;}</style><div id=\"sk-container-id-1\" class=\"sk-top-container\"><div class=\"sk-text-repr-fallback\"><pre>XGBClassifier(base_score=None, booster=None, callbacks=None,\n",
       "              colsample_bylevel=None, colsample_bynode=None,\n",
       "              colsample_bytree=None, device=None, early_stopping_rounds=None,\n",
       "              enable_categorical=False, eval_metric=None, feature_types=None,\n",
       "              gamma=None, grow_policy=None, importance_type=None,\n",
       "              interaction_constraints=None, learning_rate=None, max_bin=None,\n",
       "              max_cat_threshold=None, max_cat_to_onehot=None,\n",
       "              max_delta_step=None, max_depth=None, max_leaves=None,\n",
       "              min_child_weight=None, missing=nan, monotone_constraints=None,\n",
       "              multi_strategy=None, n_estimators=None, n_jobs=None,\n",
       "              num_parallel_tree=None, objective=&#x27;multi:softprob&#x27;, ...)</pre><b>In a Jupyter environment, please rerun this cell to show the HTML representation or trust the notebook. <br />On GitHub, the HTML representation is unable to render, please try loading this page with nbviewer.org.</b></div><div class=\"sk-container\" hidden><div class=\"sk-item\"><div class=\"sk-estimator sk-toggleable\"><input class=\"sk-toggleable__control sk-hidden--visually\" id=\"sk-estimator-id-1\" type=\"checkbox\" checked><label for=\"sk-estimator-id-1\" class=\"sk-toggleable__label sk-toggleable__label-arrow\">XGBClassifier</label><div class=\"sk-toggleable__content\"><pre>XGBClassifier(base_score=None, booster=None, callbacks=None,\n",
       "              colsample_bylevel=None, colsample_bynode=None,\n",
       "              colsample_bytree=None, device=None, early_stopping_rounds=None,\n",
       "              enable_categorical=False, eval_metric=None, feature_types=None,\n",
       "              gamma=None, grow_policy=None, importance_type=None,\n",
       "              interaction_constraints=None, learning_rate=None, max_bin=None,\n",
       "              max_cat_threshold=None, max_cat_to_onehot=None,\n",
       "              max_delta_step=None, max_depth=None, max_leaves=None,\n",
       "              min_child_weight=None, missing=nan, monotone_constraints=None,\n",
       "              multi_strategy=None, n_estimators=None, n_jobs=None,\n",
       "              num_parallel_tree=None, objective=&#x27;multi:softprob&#x27;, ...)</pre></div></div></div></div></div>"
      ],
      "text/plain": [
       "XGBClassifier(base_score=None, booster=None, callbacks=None,\n",
       "              colsample_bylevel=None, colsample_bynode=None,\n",
       "              colsample_bytree=None, device=None, early_stopping_rounds=None,\n",
       "              enable_categorical=False, eval_metric=None, feature_types=None,\n",
       "              gamma=None, grow_policy=None, importance_type=None,\n",
       "              interaction_constraints=None, learning_rate=None, max_bin=None,\n",
       "              max_cat_threshold=None, max_cat_to_onehot=None,\n",
       "              max_delta_step=None, max_depth=None, max_leaves=None,\n",
       "              min_child_weight=None, missing=nan, monotone_constraints=None,\n",
       "              multi_strategy=None, n_estimators=None, n_jobs=None,\n",
       "              num_parallel_tree=None, objective='multi:softprob', ...)"
      ]
     },
     "execution_count": 3,
     "metadata": {},
     "output_type": "execute_result"
    }
   ],
   "source": [
    "# Random Forest Classifier\n",
    "print(\"Training Random Forest Classifier...\")\n",
    "rf_model = RandomForestClassifier(n_estimators=100, random_state=42)\n",
    "rf_model.fit(X_train, y_train)\n",
    "\n",
    "# CatBoost Classifier\n",
    "print(\"Training CatBoost Classifier...\")\n",
    "catboost_model = CatBoostClassifier(iterations=100, depth=5, learning_rate=0.1, random_state=42, verbose=False)\n",
    "catboost_model.fit(X_train, y_train)\n",
    "\n",
    "# Baseline XGBoost Classifier\n",
    "print(\"Training Baseline XGBoost Classifier...\")\n",
    "xgb_baseline = xgb.XGBClassifier(random_state=42)\n",
    "xgb_baseline.fit(X_train, y_train)"
   ]
  },
  {
   "cell_type": "code",
   "execution_count": 4,
   "id": "3d6ccedf-f7fb-4077-baba-a41032e675f0",
   "metadata": {},
   "outputs": [
    {
     "name": "stdout",
     "output_type": "stream",
     "text": [
      "Starting XGBoost tuning with RandomizedSearchCV for f1_weighted...\n",
      "Fitting 5 folds for each of 50 candidates, totalling 250 fits\n"
     ]
    },
    {
     "name": "stderr",
     "output_type": "stream",
     "text": [
      "C:\\Users\\Yassine Lahniche\\AppData\\Local\\Programs\\Python\\Python311\\Lib\\site-packages\\xgboost\\core.py:158: UserWarning: [18:37:09] WARNING: C:\\buildkite-agent\\builds\\buildkite-windows-cpu-autoscaling-group-i-08cbc0333d8d4aae1-1\\xgboost\\xgboost-ci-windows\\src\\learner.cc:740: \n",
      "Parameters: { \"scale_pos_weight\", \"use_label_encoder\" } are not used.\n",
      "\n",
      "  warnings.warn(smsg, UserWarning)\n"
     ]
    },
    {
     "name": "stdout",
     "output_type": "stream",
     "text": [
      "XGBoost tuning completed in 42.57 seconds\n",
      "Best f1_weighted score: 0.9749\n",
      "Best parameters:\n",
      "  colsample_bytree: 0.8605939087431151\n",
      "  gamma: 0.10334217993837269\n",
      "  learning_rate: 0.09218833819634012\n",
      "  max_depth: 6\n",
      "  min_child_weight: 2\n",
      "  n_estimators: 302\n",
      "  reg_alpha: 0.0944429607559284\n",
      "  reg_lambda: 0.6830067734163568\n",
      "  scale_pos_weight: 0.6779716211505724\n",
      "  subsample: 0.7275902521175045\n"
     ]
    }
   ],
   "source": [
    "from sklearn.model_selection import train_test_split, RandomizedSearchCV, StratifiedKFold\n",
    "from sklearn.metrics import f1_score, accuracy_score, precision_score, recall_score, confusion_matrix\n",
    "from sklearn.metrics import roc_auc_score, roc_curve, precision_recall_curve, auc\n",
    "import xgboost as xgb\n",
    "from scipy.stats import randint, uniform\n",
    "import time\n",
    "\n",
    "# Define the parameter distribution for tuning\n",
    "def get_parameter_distribution():\n",
    "    param_dist = {\n",
    "        'n_estimators': randint(50, 500),\n",
    "        'max_depth': randint(3, 10),\n",
    "        'learning_rate': uniform(0.01, 0.3),\n",
    "        'subsample': uniform(0.6, 0.4),\n",
    "        'colsample_bytree': uniform(0.6, 0.4),\n",
    "        'gamma': uniform(0, 0.5),\n",
    "        'min_child_weight': randint(1, 10),\n",
    "        'reg_alpha': uniform(0, 1),\n",
    "        'reg_lambda': uniform(0, 1),\n",
    "        'scale_pos_weight': uniform(0.5, 2.5),\n",
    "    }\n",
    "    return param_dist\n",
    "\n",
    "# Function to tune XGBoost\n",
    "def tune_xgboost(X_train, y_train, scoring='f1_weighted', n_iter=50, cv=5, n_jobs=-1, verbose=2):\n",
    "    print(f\"Starting XGBoost tuning with RandomizedSearchCV for {scoring}...\")\n",
    "    start_time = time.time()\n",
    "\n",
    "    # Define the base model\n",
    "    xgb_model = xgb.XGBClassifier(\n",
    "        objective='binary:logistic' if len(np.unique(y_train)) == 2 else 'multi:softprob',\n",
    "        random_state=42,\n",
    "        use_label_encoder=False,\n",
    "        eval_metric='logloss'\n",
    "    )\n",
    "\n",
    "    # Define the parameter space\n",
    "    param_dist = get_parameter_distribution()\n",
    "\n",
    "    # Set up the cross-validation strategy\n",
    "    cv_strategy = StratifiedKFold(n_splits=cv, shuffle=True, random_state=42)\n",
    "\n",
    "    # Set up RandomizedSearchCV\n",
    "    search = RandomizedSearchCV(\n",
    "        estimator=xgb_model,\n",
    "        param_distributions=param_dist,\n",
    "        n_iter=n_iter,\n",
    "        scoring=scoring,\n",
    "        cv=cv_strategy,\n",
    "        verbose=verbose,\n",
    "        random_state=42,\n",
    "        n_jobs=n_jobs,\n",
    "        return_train_score=True\n",
    "    )\n",
    "\n",
    "    # Fit RandomizedSearchCV\n",
    "    search.fit(X_train, y_train)\n",
    "\n",
    "    # Get the best model\n",
    "    best_model = search.best_estimator_\n",
    "\n",
    "    # Calculate time taken\n",
    "    time_taken = time.time() - start_time\n",
    "    print(f\"XGBoost tuning completed in {time_taken:.2f} seconds\")\n",
    "    print(f\"Best {scoring} score: {search.best_score_:.4f}\")\n",
    "    print(\"Best parameters:\")\n",
    "    for param, value in search.best_params_.items():\n",
    "        print(f\"  {param}: {value}\")\n",
    "\n",
    "    return best_model, search\n",
    "\n",
    "# Tune XGBoost\n",
    "xgb_tuned = tune_xgboost(X_train, y_train)[0]"
   ]
  },
  {
   "cell_type": "code",
   "execution_count": 5,
   "id": "3dcd82f4-82d9-40b0-a6e1-68479d834ffb",
   "metadata": {},
   "outputs": [
    {
     "name": "stdout",
     "output_type": "stream",
     "text": [
      "Metrics for Random Forest:\n",
      "Accuracy: 0.9624\n",
      "Precision: 0.9623\n",
      "Recall: 0.9624\n",
      "F1-Score: 0.9619\n",
      "------------------------------\n",
      "Metrics for CatBoost:\n",
      "Accuracy: 0.9549\n",
      "Precision: 0.9588\n",
      "Recall: 0.9549\n",
      "F1-Score: 0.9555\n",
      "------------------------------\n",
      "Metrics for XGBoost Baseline:\n",
      "Accuracy: 0.9875\n",
      "Precision: 0.9875\n",
      "Recall: 0.9875\n",
      "F1-Score: 0.9875\n",
      "------------------------------\n",
      "Metrics for XGBoost Tuned:\n",
      "Accuracy: 0.9850\n",
      "Precision: 0.9850\n",
      "Recall: 0.9850\n",
      "F1-Score: 0.9849\n",
      "------------------------------\n"
     ]
    }
   ],
   "source": [
    "# Make predictions\n",
    "y1_pred = rf_model.predict(X_test)\n",
    "y2_pred = catboost_model.predict(X_test)\n",
    "y3_pred = xgb_baseline.predict(X_test)\n",
    "y4_pred = xgb_tuned.predict(X_test)\n",
    "\n",
    "# Function to evaluate models\n",
    "def evaluate_model(y_true, preds, model_name):\n",
    "    accuracy = accuracy_score(y_true, preds)\n",
    "    precision = precision_score(y_true, preds, average=\"weighted\")\n",
    "    recall = recall_score(y_true, preds, average=\"weighted\")\n",
    "    f1 = f1_score(y_true, preds, average=\"weighted\")\n",
    "\n",
    "    print(f\"Metrics for {model_name}:\")\n",
    "    print(f\"Accuracy: {accuracy:.4f}\")\n",
    "    print(f\"Precision: {precision:.4f}\")\n",
    "    print(f\"Recall: {recall:.4f}\")\n",
    "    print(f\"F1-Score: {f1:.4f}\")\n",
    "    print(\"-\" * 30)\n",
    "\n",
    "# Evaluate each model\n",
    "evaluate_model(y_test, y1_pred, \"Random Forest\")\n",
    "evaluate_model(y_test, y2_pred, \"CatBoost\")\n",
    "evaluate_model(y_test, y3_pred, \"XGBoost Baseline\")\n",
    "evaluate_model(y_test, y4_pred, \"XGBoost Tuned\")"
   ]
  },
  {
   "cell_type": "code",
   "execution_count": 6,
   "id": "a0c12d79-7824-4673-8076-101c0c505d0f",
   "metadata": {},
   "outputs": [
    {
     "name": "stdout",
     "output_type": "stream",
     "text": [
      "Models saved successfully!\n"
     ]
    }
   ],
   "source": [
    "# Save models to disk\n",
    "with open(\"xgb_baseline.pkl\", \"wb\") as file:\n",
    "    pickle.dump(xgb_baseline, file)\n",
    "with open(\"xgb_tuned.pkl\", \"wb\") as file:\n",
    "    pickle.dump(xgb_tuned, file)\n",
    "with open(\"rf_model.pkl\", \"wb\") as file:\n",
    "    pickle.dump(rf_model, file)\n",
    "with open(\"catboost_model.pkl\", \"wb\") as file:\n",
    "    pickle.dump(catboost_model, file)\n",
    "\n",
    "print(\"Models saved successfully!\")"
   ]
  },
  {
   "cell_type": "code",
   "execution_count": null,
   "id": "0211efe7-763c-49b4-afea-5ddfec0609bb",
   "metadata": {},
   "outputs": [],
   "source": []
  }
 ],
 "metadata": {
  "kernelspec": {
   "display_name": "Python 3 (ipykernel)",
   "language": "python",
   "name": "python3"
  },
  "language_info": {
   "codemirror_mode": {
    "name": "ipython",
    "version": 3
   },
   "file_extension": ".py",
   "mimetype": "text/x-python",
   "name": "python",
   "nbconvert_exporter": "python",
   "pygments_lexer": "ipython3",
   "version": "3.11.4"
  }
 },
 "nbformat": 4,
 "nbformat_minor": 5
}
